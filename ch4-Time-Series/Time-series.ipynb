{
 "cells": [
  {
   "cell_type": "markdown",
   "source": [
    "# Time Series"
   ],
   "metadata": {}
  },
  {
   "cell_type": "code",
   "execution_count": 2,
   "source": [
    "import pandas as pd\n",
    "import numpy as np\n",
    "pd.set_option('precision', 7)\n",
    "\n",
    "import datetime\n",
    "from datetime import datetime\n",
    "\n",
    "import matplotlib.pyplot as plt\n",
    "%matplotlib inline \n",
    "# pd.options.display.mpl_style = 'default'"
   ],
   "outputs": [],
   "metadata": {}
  },
  {
   "cell_type": "markdown",
   "source": [
    "---------\n",
    "## DateTimeIndex"
   ],
   "metadata": {}
  },
  {
   "cell_type": "code",
   "execution_count": 4,
   "source": [
    "dates = [datetime(2014, 8, 1), datetime(2014, 8, 2)]\n",
    "dti = pd.DatetimeIndex(dates)\n",
    "dti"
   ],
   "outputs": [
    {
     "output_type": "execute_result",
     "data": {
      "text/plain": [
       "DatetimeIndex(['2014-08-01', '2014-08-02'], dtype='datetime64[ns]', freq=None)"
      ]
     },
     "metadata": {},
     "execution_count": 4
    }
   ],
   "metadata": {}
  },
  {
   "cell_type": "code",
   "execution_count": 11,
   "source": [
    "np.random.seed(123456)\n",
    "ts = pd.Series(np.random.randn(2), dates)\n",
    "ts.to_frame()"
   ],
   "outputs": [
    {
     "output_type": "execute_result",
     "data": {
      "text/html": [
       "<div>\n",
       "<style scoped>\n",
       "    .dataframe tbody tr th:only-of-type {\n",
       "        vertical-align: middle;\n",
       "    }\n",
       "\n",
       "    .dataframe tbody tr th {\n",
       "        vertical-align: top;\n",
       "    }\n",
       "\n",
       "    .dataframe thead th {\n",
       "        text-align: right;\n",
       "    }\n",
       "</style>\n",
       "<table border=\"1\" class=\"dataframe\">\n",
       "  <thead>\n",
       "    <tr style=\"text-align: right;\">\n",
       "      <th></th>\n",
       "      <th>0</th>\n",
       "    </tr>\n",
       "  </thead>\n",
       "  <tbody>\n",
       "    <tr>\n",
       "      <th>2014-08-01</th>\n",
       "      <td>0.4691123</td>\n",
       "    </tr>\n",
       "    <tr>\n",
       "      <th>2014-08-02</th>\n",
       "      <td>-0.2828633</td>\n",
       "    </tr>\n",
       "  </tbody>\n",
       "</table>\n",
       "</div>"
      ],
      "text/plain": [
       "                    0\n",
       "2014-08-01  0.4691123\n",
       "2014-08-02 -0.2828633"
      ]
     },
     "metadata": {},
     "execution_count": 11
    }
   ],
   "metadata": {}
  },
  {
   "cell_type": "code",
   "execution_count": 7,
   "source": [
    "type(ts.index)"
   ],
   "outputs": [
    {
     "output_type": "execute_result",
     "data": {
      "text/plain": [
       "pandas.core.indexes.datetimes.DatetimeIndex"
      ]
     },
     "metadata": {},
     "execution_count": 7
    }
   ],
   "metadata": {}
  },
  {
   "cell_type": "code",
   "execution_count": 14,
   "source": [
    "ts[datetime(2014,8,2)]"
   ],
   "outputs": [
    {
     "output_type": "execute_result",
     "data": {
      "text/plain": [
       "-0.2828633443286633"
      ]
     },
     "metadata": {},
     "execution_count": 14
    }
   ],
   "metadata": {}
  },
  {
   "cell_type": "code",
   "execution_count": 15,
   "source": [
    "ts['2014-8-2']"
   ],
   "outputs": [
    {
     "output_type": "execute_result",
     "data": {
      "text/plain": [
       "-0.2828633443286633"
      ]
     },
     "metadata": {},
     "execution_count": 15
    }
   ],
   "metadata": {}
  },
  {
   "cell_type": "code",
   "execution_count": 16,
   "source": [
    "np.random.seed(123456)\n",
    "dates = ['2014-8-01', '2014-8-02']\n",
    "ts = pd.Series(np.random.randn(2), dates)\n",
    "ts"
   ],
   "outputs": [
    {
     "output_type": "execute_result",
     "data": {
      "text/plain": [
       "2014-8-01    0.4691123\n",
       "2014-8-02   -0.2828633\n",
       "dtype: float64"
      ]
     },
     "metadata": {},
     "execution_count": 16
    }
   ],
   "metadata": {}
  },
  {
   "cell_type": "markdown",
   "source": [
    "----\n",
    "pd.to_datetime() can be used to create DateTimeIndex objects. Any invalid time is cast as NaT (Not-a-time)"
   ],
   "metadata": {}
  },
  {
   "cell_type": "code",
   "execution_count": 18,
   "source": [
    "dti = pd.to_datetime(['Aug 1, 2014', '2014-08-02',\n",
    "                    '2014.8.3', None])\n",
    "dti"
   ],
   "outputs": [
    {
     "output_type": "execute_result",
     "data": {
      "text/plain": [
       "DatetimeIndex(['2014-08-01', '2014-08-02', '2014-08-03', 'NaT'], dtype='datetime64[ns]', freq=None)"
      ]
     },
     "metadata": {},
     "execution_count": 18
    }
   ],
   "metadata": {}
  },
  {
   "cell_type": "markdown",
   "source": [
    "Using the pd.date_range() we can create a range of timestamps at a specific frequency"
   ],
   "metadata": {}
  },
  {
   "cell_type": "code",
   "execution_count": 19,
   "source": [
    "dates = pd.date_range('8/1/2014', periods=10)\n",
    "print(dates)"
   ],
   "outputs": [
    {
     "output_type": "stream",
     "name": "stdout",
     "text": [
      "DatetimeIndex(['2014-08-01', '2014-08-02', '2014-08-03', '2014-08-04',\n",
      "               '2014-08-05', '2014-08-06', '2014-08-07', '2014-08-08',\n",
      "               '2014-08-09', '2014-08-10'],\n",
      "              dtype='datetime64[ns]', freq='D')\n"
     ]
    }
   ],
   "metadata": {}
  },
  {
   "cell_type": "code",
   "execution_count": 22,
   "source": [
    "s1 = pd.Series(np.random.randn(10), dates)\n",
    "s1.head()"
   ],
   "outputs": [
    {
     "output_type": "execute_result",
     "data": {
      "text/plain": [
       "2014-08-01   -1.4784266\n",
       "2014-08-02    0.5249877\n",
       "2014-08-03    0.4047052\n",
       "2014-08-04    0.5770460\n",
       "2014-08-05   -1.7150020\n",
       "Freq: D, dtype: float64"
      ]
     },
     "metadata": {},
     "execution_count": 22
    }
   ],
   "metadata": {}
  },
  {
   "cell_type": "code",
   "execution_count": 27,
   "source": [
    "import pandas_datareader as web\n",
    "msft = web.DataReader(\"MSFT\", 'yahoo', '2012-1-1', '2013-12-30')\n",
    "msft.describe()"
   ],
   "outputs": [
    {
     "output_type": "execute_result",
     "data": {
      "text/html": [
       "<div>\n",
       "<style scoped>\n",
       "    .dataframe tbody tr th:only-of-type {\n",
       "        vertical-align: middle;\n",
       "    }\n",
       "\n",
       "    .dataframe tbody tr th {\n",
       "        vertical-align: top;\n",
       "    }\n",
       "\n",
       "    .dataframe thead th {\n",
       "        text-align: right;\n",
       "    }\n",
       "</style>\n",
       "<table border=\"1\" class=\"dataframe\">\n",
       "  <thead>\n",
       "    <tr style=\"text-align: right;\">\n",
       "      <th></th>\n",
       "      <th>High</th>\n",
       "      <th>Low</th>\n",
       "      <th>Open</th>\n",
       "      <th>Close</th>\n",
       "      <th>Volume</th>\n",
       "      <th>Adj Close</th>\n",
       "    </tr>\n",
       "  </thead>\n",
       "  <tbody>\n",
       "    <tr>\n",
       "      <th>count</th>\n",
       "      <td>501.0000000</td>\n",
       "      <td>501.0000000</td>\n",
       "      <td>501.0000000</td>\n",
       "      <td>501.0000000</td>\n",
       "      <td>5.0100000e+02</td>\n",
       "      <td>501.0000000</td>\n",
       "    </tr>\n",
       "    <tr>\n",
       "      <th>mean</th>\n",
       "      <td>31.3894012</td>\n",
       "      <td>30.8739721</td>\n",
       "      <td>31.1285030</td>\n",
       "      <td>31.1492814</td>\n",
       "      <td>4.8339490e+07</td>\n",
       "      <td>26.0127302</td>\n",
       "    </tr>\n",
       "    <tr>\n",
       "      <th>std</th>\n",
       "      <td>3.0119238</td>\n",
       "      <td>2.9603806</td>\n",
       "      <td>2.9829984</td>\n",
       "      <td>2.9982206</td>\n",
       "      <td>2.2644530e+07</td>\n",
       "      <td>2.8093919</td>\n",
       "    </tr>\n",
       "    <tr>\n",
       "      <th>min</th>\n",
       "      <td>26.6299992</td>\n",
       "      <td>26.2600002</td>\n",
       "      <td>26.3799992</td>\n",
       "      <td>26.3700008</td>\n",
       "      <td>1.4243000e+07</td>\n",
       "      <td>21.7074890</td>\n",
       "    </tr>\n",
       "    <tr>\n",
       "      <th>25%</th>\n",
       "      <td>29.0799999</td>\n",
       "      <td>28.6000004</td>\n",
       "      <td>28.8500004</td>\n",
       "      <td>28.7999992</td>\n",
       "      <td>3.5990900e+07</td>\n",
       "      <td>23.9212112</td>\n",
       "    </tr>\n",
       "    <tr>\n",
       "      <th>50%</th>\n",
       "      <td>30.9599991</td>\n",
       "      <td>30.4300003</td>\n",
       "      <td>30.6900005</td>\n",
       "      <td>30.7399998</td>\n",
       "      <td>4.4242600e+07</td>\n",
       "      <td>25.2867107</td>\n",
       "    </tr>\n",
       "    <tr>\n",
       "      <th>75%</th>\n",
       "      <td>33.3100014</td>\n",
       "      <td>32.5999985</td>\n",
       "      <td>32.9099998</td>\n",
       "      <td>33.0099983</td>\n",
       "      <td>5.3638300e+07</td>\n",
       "      <td>27.9562912</td>\n",
       "    </tr>\n",
       "    <tr>\n",
       "      <th>max</th>\n",
       "      <td>38.9799995</td>\n",
       "      <td>38.3699989</td>\n",
       "      <td>38.8499985</td>\n",
       "      <td>38.9399986</td>\n",
       "      <td>2.4842850e+08</td>\n",
       "      <td>33.4514771</td>\n",
       "    </tr>\n",
       "  </tbody>\n",
       "</table>\n",
       "</div>"
      ],
      "text/plain": [
       "              High          Low         Open        Close         Volume  \\\n",
       "count  501.0000000  501.0000000  501.0000000  501.0000000  5.0100000e+02   \n",
       "mean    31.3894012   30.8739721   31.1285030   31.1492814  4.8339490e+07   \n",
       "std      3.0119238    2.9603806    2.9829984    2.9982206  2.2644530e+07   \n",
       "min     26.6299992   26.2600002   26.3799992   26.3700008  1.4243000e+07   \n",
       "25%     29.0799999   28.6000004   28.8500004   28.7999992  3.5990900e+07   \n",
       "50%     30.9599991   30.4300003   30.6900005   30.7399998  4.4242600e+07   \n",
       "75%     33.3100014   32.5999985   32.9099998   33.0099983  5.3638300e+07   \n",
       "max     38.9799995   38.3699989   38.8499985   38.9399986  2.4842850e+08   \n",
       "\n",
       "         Adj Close  \n",
       "count  501.0000000  \n",
       "mean    26.0127302  \n",
       "std      2.8093919  \n",
       "min     21.7074890  \n",
       "25%     23.9212112  \n",
       "50%     25.2867107  \n",
       "75%     27.9562912  \n",
       "max     33.4514771  "
      ]
     },
     "metadata": {},
     "execution_count": 27
    }
   ],
   "metadata": {}
  },
  {
   "cell_type": "code",
   "execution_count": 25,
   "source": [
    "msftAC = msft['Adj Close']\n",
    "msftAC.head()"
   ],
   "outputs": [
    {
     "output_type": "execute_result",
     "data": {
      "text/plain": [
       "Date\n",
       "2012-01-03    21.7074871\n",
       "2012-01-04    22.2183437\n",
       "2012-01-05    22.4453945\n",
       "2012-01-06    22.7940826\n",
       "2012-01-09    22.4940510\n",
       "Name: Adj Close, dtype: float64"
      ]
     },
     "metadata": {},
     "execution_count": 25
    }
   ],
   "metadata": {}
  },
  {
   "cell_type": "markdown",
   "source": [
    "When we have pandas series indexed by timestamp, we can use a overriden version of the slicing operation, which takes dates in string form"
   ],
   "metadata": {}
  },
  {
   "cell_type": "code",
   "execution_count": 29,
   "source": [
    "msft['2012-1-1' : '2012-1-5']"
   ],
   "outputs": [
    {
     "output_type": "execute_result",
     "data": {
      "text/html": [
       "<div>\n",
       "<style scoped>\n",
       "    .dataframe tbody tr th:only-of-type {\n",
       "        vertical-align: middle;\n",
       "    }\n",
       "\n",
       "    .dataframe tbody tr th {\n",
       "        vertical-align: top;\n",
       "    }\n",
       "\n",
       "    .dataframe thead th {\n",
       "        text-align: right;\n",
       "    }\n",
       "</style>\n",
       "<table border=\"1\" class=\"dataframe\">\n",
       "  <thead>\n",
       "    <tr style=\"text-align: right;\">\n",
       "      <th></th>\n",
       "      <th>High</th>\n",
       "      <th>Low</th>\n",
       "      <th>Open</th>\n",
       "      <th>Close</th>\n",
       "      <th>Volume</th>\n",
       "      <th>Adj Close</th>\n",
       "    </tr>\n",
       "    <tr>\n",
       "      <th>Date</th>\n",
       "      <th></th>\n",
       "      <th></th>\n",
       "      <th></th>\n",
       "      <th></th>\n",
       "      <th></th>\n",
       "      <th></th>\n",
       "    </tr>\n",
       "  </thead>\n",
       "  <tbody>\n",
       "    <tr>\n",
       "      <th>2012-01-03</th>\n",
       "      <td>26.9599991</td>\n",
       "      <td>26.3899994</td>\n",
       "      <td>26.5499992</td>\n",
       "      <td>26.7700005</td>\n",
       "      <td>64731500.0</td>\n",
       "      <td>21.7074890</td>\n",
       "    </tr>\n",
       "    <tr>\n",
       "      <th>2012-01-04</th>\n",
       "      <td>27.4699993</td>\n",
       "      <td>26.7800007</td>\n",
       "      <td>26.8199997</td>\n",
       "      <td>27.3999996</td>\n",
       "      <td>80516100.0</td>\n",
       "      <td>22.2183495</td>\n",
       "    </tr>\n",
       "    <tr>\n",
       "      <th>2012-01-05</th>\n",
       "      <td>27.7299995</td>\n",
       "      <td>27.2900009</td>\n",
       "      <td>27.3799992</td>\n",
       "      <td>27.6800003</td>\n",
       "      <td>56081400.0</td>\n",
       "      <td>22.4453945</td>\n",
       "    </tr>\n",
       "  </tbody>\n",
       "</table>\n",
       "</div>"
      ],
      "text/plain": [
       "                  High         Low        Open       Close      Volume  \\\n",
       "Date                                                                     \n",
       "2012-01-03  26.9599991  26.3899994  26.5499992  26.7700005  64731500.0   \n",
       "2012-01-04  27.4699993  26.7800007  26.8199997  27.3999996  80516100.0   \n",
       "2012-01-05  27.7299995  27.2900009  27.3799992  27.6800003  56081400.0   \n",
       "\n",
       "             Adj Close  \n",
       "Date                    \n",
       "2012-01-03  21.7074890  \n",
       "2012-01-04  22.2183495  \n",
       "2012-01-05  22.4453945  "
      ]
     },
     "metadata": {},
     "execution_count": 29
    }
   ],
   "metadata": {}
  },
  {
   "cell_type": "code",
   "execution_count": 31,
   "source": [
    "msft.loc['2012-1-3'] "
   ],
   "outputs": [
    {
     "output_type": "execute_result",
     "data": {
      "text/plain": [
       "High         2.6959999e+01\n",
       "Low          2.6389999e+01\n",
       "Open         2.6549999e+01\n",
       "Close        2.6770000e+01\n",
       "Volume       6.4731500e+07\n",
       "Adj Close    2.1707489e+01\n",
       "Name: 2012-01-03 00:00:00, dtype: float64"
      ]
     },
     "metadata": {},
     "execution_count": 31
    }
   ],
   "metadata": {}
  },
  {
   "cell_type": "code",
   "execution_count": 42,
   "source": [
    "# msft['2012-1-3'] # This throws a KeyError"
   ],
   "outputs": [],
   "metadata": {}
  },
  {
   "cell_type": "code",
   "execution_count": 34,
   "source": [
    "msftAC['2012-1-3'] # In a series, this syntax retrieves the index for the timestamp; it doesnt work in a dataframe"
   ],
   "outputs": [
    {
     "output_type": "execute_result",
     "data": {
      "text/plain": [
       "21.707487106323242"
      ]
     },
     "metadata": {},
     "execution_count": 34
    }
   ],
   "metadata": {}
  },
  {
   "cell_type": "code",
   "execution_count": 40,
   "source": [
    "a,b = msftAC.loc['2012-1-3'], msft.loc['2012-1-3'] # But this syntax works as expected in both series and dataframes\n",
    "display (a ,b)"
   ],
   "outputs": [
    {
     "output_type": "display_data",
     "data": {
      "text/plain": [
       "21.707487106323242"
      ]
     },
     "metadata": {}
    },
    {
     "output_type": "display_data",
     "data": {
      "text/plain": [
       "High         2.6959999e+01\n",
       "Low          2.6389999e+01\n",
       "Open         2.6549999e+01\n",
       "Close        2.6770000e+01\n",
       "Volume       6.4731500e+07\n",
       "Adj Close    2.1707489e+01\n",
       "Name: 2012-01-03 00:00:00, dtype: float64"
      ]
     },
     "metadata": {}
    }
   ],
   "metadata": {}
  },
  {
   "cell_type": "code",
   "execution_count": 46,
   "source": [
    "msft.loc['2012-2'].head()  # We can retrieve a partial chunk of the dates (eg. the month of February 2012) using this syntax"
   ],
   "outputs": [
    {
     "output_type": "execute_result",
     "data": {
      "text/html": [
       "<div>\n",
       "<style scoped>\n",
       "    .dataframe tbody tr th:only-of-type {\n",
       "        vertical-align: middle;\n",
       "    }\n",
       "\n",
       "    .dataframe tbody tr th {\n",
       "        vertical-align: top;\n",
       "    }\n",
       "\n",
       "    .dataframe thead th {\n",
       "        text-align: right;\n",
       "    }\n",
       "</style>\n",
       "<table border=\"1\" class=\"dataframe\">\n",
       "  <thead>\n",
       "    <tr style=\"text-align: right;\">\n",
       "      <th></th>\n",
       "      <th>High</th>\n",
       "      <th>Low</th>\n",
       "      <th>Open</th>\n",
       "      <th>Close</th>\n",
       "      <th>Volume</th>\n",
       "      <th>Adj Close</th>\n",
       "    </tr>\n",
       "    <tr>\n",
       "      <th>Date</th>\n",
       "      <th></th>\n",
       "      <th></th>\n",
       "      <th></th>\n",
       "      <th></th>\n",
       "      <th></th>\n",
       "      <th></th>\n",
       "    </tr>\n",
       "  </thead>\n",
       "  <tbody>\n",
       "    <tr>\n",
       "      <th>2012-02-01</th>\n",
       "      <td>30.0499992</td>\n",
       "      <td>29.7600002</td>\n",
       "      <td>29.7900009</td>\n",
       "      <td>29.8899994</td>\n",
       "      <td>67409900.0</td>\n",
       "      <td>24.2374630</td>\n",
       "    </tr>\n",
       "    <tr>\n",
       "      <th>2012-02-02</th>\n",
       "      <td>30.1700001</td>\n",
       "      <td>29.7099991</td>\n",
       "      <td>29.8999996</td>\n",
       "      <td>29.9500008</td>\n",
       "      <td>52223300.0</td>\n",
       "      <td>24.2861118</td>\n",
       "    </tr>\n",
       "    <tr>\n",
       "      <th>2012-02-03</th>\n",
       "      <td>30.3999996</td>\n",
       "      <td>30.0900002</td>\n",
       "      <td>30.1399994</td>\n",
       "      <td>30.2399998</td>\n",
       "      <td>41838500.0</td>\n",
       "      <td>24.5212650</td>\n",
       "    </tr>\n",
       "    <tr>\n",
       "      <th>2012-02-06</th>\n",
       "      <td>30.2199993</td>\n",
       "      <td>29.9699993</td>\n",
       "      <td>30.0400009</td>\n",
       "      <td>30.2000008</td>\n",
       "      <td>28039700.0</td>\n",
       "      <td>24.4888363</td>\n",
       "    </tr>\n",
       "    <tr>\n",
       "      <th>2012-02-07</th>\n",
       "      <td>30.4899998</td>\n",
       "      <td>30.0499992</td>\n",
       "      <td>30.1499996</td>\n",
       "      <td>30.3500004</td>\n",
       "      <td>39242400.0</td>\n",
       "      <td>24.6104660</td>\n",
       "    </tr>\n",
       "  </tbody>\n",
       "</table>\n",
       "</div>"
      ],
      "text/plain": [
       "                  High         Low        Open       Close      Volume  \\\n",
       "Date                                                                     \n",
       "2012-02-01  30.0499992  29.7600002  29.7900009  29.8899994  67409900.0   \n",
       "2012-02-02  30.1700001  29.7099991  29.8999996  29.9500008  52223300.0   \n",
       "2012-02-03  30.3999996  30.0900002  30.1399994  30.2399998  41838500.0   \n",
       "2012-02-06  30.2199993  29.9699993  30.0400009  30.2000008  28039700.0   \n",
       "2012-02-07  30.4899998  30.0499992  30.1499996  30.3500004  39242400.0   \n",
       "\n",
       "             Adj Close  \n",
       "Date                    \n",
       "2012-02-01  24.2374630  \n",
       "2012-02-02  24.2861118  \n",
       "2012-02-03  24.5212650  \n",
       "2012-02-06  24.4888363  \n",
       "2012-02-07  24.6104660  "
      ]
     },
     "metadata": {},
     "execution_count": 46
    }
   ],
   "metadata": {}
  },
  {
   "cell_type": "code",
   "execution_count": 49,
   "source": [
    "msft.loc['2012-2' : '2012-2-9'].head() # We can use it to slice a time period"
   ],
   "outputs": [
    {
     "output_type": "execute_result",
     "data": {
      "text/html": [
       "<div>\n",
       "<style scoped>\n",
       "    .dataframe tbody tr th:only-of-type {\n",
       "        vertical-align: middle;\n",
       "    }\n",
       "\n",
       "    .dataframe tbody tr th {\n",
       "        vertical-align: top;\n",
       "    }\n",
       "\n",
       "    .dataframe thead th {\n",
       "        text-align: right;\n",
       "    }\n",
       "</style>\n",
       "<table border=\"1\" class=\"dataframe\">\n",
       "  <thead>\n",
       "    <tr style=\"text-align: right;\">\n",
       "      <th></th>\n",
       "      <th>High</th>\n",
       "      <th>Low</th>\n",
       "      <th>Open</th>\n",
       "      <th>Close</th>\n",
       "      <th>Volume</th>\n",
       "      <th>Adj Close</th>\n",
       "    </tr>\n",
       "    <tr>\n",
       "      <th>Date</th>\n",
       "      <th></th>\n",
       "      <th></th>\n",
       "      <th></th>\n",
       "      <th></th>\n",
       "      <th></th>\n",
       "      <th></th>\n",
       "    </tr>\n",
       "  </thead>\n",
       "  <tbody>\n",
       "    <tr>\n",
       "      <th>2012-02-01</th>\n",
       "      <td>30.0499992</td>\n",
       "      <td>29.7600002</td>\n",
       "      <td>29.7900009</td>\n",
       "      <td>29.8899994</td>\n",
       "      <td>67409900.0</td>\n",
       "      <td>24.2374630</td>\n",
       "    </tr>\n",
       "    <tr>\n",
       "      <th>2012-02-02</th>\n",
       "      <td>30.1700001</td>\n",
       "      <td>29.7099991</td>\n",
       "      <td>29.8999996</td>\n",
       "      <td>29.9500008</td>\n",
       "      <td>52223300.0</td>\n",
       "      <td>24.2861118</td>\n",
       "    </tr>\n",
       "    <tr>\n",
       "      <th>2012-02-03</th>\n",
       "      <td>30.3999996</td>\n",
       "      <td>30.0900002</td>\n",
       "      <td>30.1399994</td>\n",
       "      <td>30.2399998</td>\n",
       "      <td>41838500.0</td>\n",
       "      <td>24.5212650</td>\n",
       "    </tr>\n",
       "    <tr>\n",
       "      <th>2012-02-06</th>\n",
       "      <td>30.2199993</td>\n",
       "      <td>29.9699993</td>\n",
       "      <td>30.0400009</td>\n",
       "      <td>30.2000008</td>\n",
       "      <td>28039700.0</td>\n",
       "      <td>24.4888363</td>\n",
       "    </tr>\n",
       "    <tr>\n",
       "      <th>2012-02-07</th>\n",
       "      <td>30.4899998</td>\n",
       "      <td>30.0499992</td>\n",
       "      <td>30.1499996</td>\n",
       "      <td>30.3500004</td>\n",
       "      <td>39242400.0</td>\n",
       "      <td>24.6104660</td>\n",
       "    </tr>\n",
       "  </tbody>\n",
       "</table>\n",
       "</div>"
      ],
      "text/plain": [
       "                  High         Low        Open       Close      Volume  \\\n",
       "Date                                                                     \n",
       "2012-02-01  30.0499992  29.7600002  29.7900009  29.8899994  67409900.0   \n",
       "2012-02-02  30.1700001  29.7099991  29.8999996  29.9500008  52223300.0   \n",
       "2012-02-03  30.3999996  30.0900002  30.1399994  30.2399998  41838500.0   \n",
       "2012-02-06  30.2199993  29.9699993  30.0400009  30.2000008  28039700.0   \n",
       "2012-02-07  30.4899998  30.0499992  30.1499996  30.3500004  39242400.0   \n",
       "\n",
       "             Adj Close  \n",
       "Date                    \n",
       "2012-02-01  24.2374630  \n",
       "2012-02-02  24.2861118  \n",
       "2012-02-03  24.5212650  \n",
       "2012-02-06  24.4888363  \n",
       "2012-02-07  24.6104660  "
      ]
     },
     "metadata": {},
     "execution_count": 49
    }
   ],
   "metadata": {}
  },
  {
   "cell_type": "markdown",
   "source": [
    "------\n",
    "# TimeSeries with specific frequencies\n",
    "\n",
    "We may specify the time interval between entries to the series. Using the pd.date_range() with the freq parameter, which is \"D\" (daily frequency) by default"
   ],
   "metadata": {}
  },
  {
   "cell_type": "code",
   "execution_count": 58,
   "source": [
    "byMinute = pd.Series(np.arange(0, 1180800), pd.date_range('2012-08-01', '2014-10-29 23:59:00', freq='T'))\n",
    "byMinute # Index has a minute-wise frequency"
   ],
   "outputs": [
    {
     "output_type": "execute_result",
     "data": {
      "text/plain": [
       "2012-08-01 00:00:00          0\n",
       "2012-08-01 00:01:00          1\n",
       "2012-08-01 00:02:00          2\n",
       "2012-08-01 00:03:00          3\n",
       "2012-08-01 00:04:00          4\n",
       "                        ...   \n",
       "2014-10-29 23:55:00    1180795\n",
       "2014-10-29 23:56:00    1180796\n",
       "2014-10-29 23:57:00    1180797\n",
       "2014-10-29 23:58:00    1180798\n",
       "2014-10-29 23:59:00    1180799\n",
       "Freq: T, Length: 1180800, dtype: int64"
      ]
     },
     "metadata": {},
     "execution_count": 58
    }
   ],
   "metadata": {}
  },
  {
   "cell_type": "code",
   "execution_count": 62,
   "source": [
    "# What happened on 2014-08-1 between 12:30 and 1:00 pm?\n",
    "byMinute.loc['2014-08-01 12:30' : '2014-08-01 13:00'][:5]\n"
   ],
   "outputs": [
    {
     "output_type": "execute_result",
     "data": {
      "text/plain": [
       "2014-08-01 12:30:00    1051950\n",
       "2014-08-01 12:31:00    1051951\n",
       "2014-08-01 12:32:00    1051952\n",
       "2014-08-01 12:33:00    1051953\n",
       "2014-08-01 12:34:00    1051954\n",
       "Freq: T, dtype: int64"
      ]
     },
     "metadata": {},
     "execution_count": 62
    }
   ],
   "metadata": {}
  },
  {
   "cell_type": "markdown",
   "source": [
    "-----------\n",
    "# Representing intervals of time using periods"
   ],
   "metadata": {}
  },
  {
   "cell_type": "code",
   "execution_count": 63,
   "source": [
    "aug2014 = pd.Period('2014-08', freq=\"M\")\n",
    "aug2014"
   ],
   "outputs": [
    {
     "output_type": "execute_result",
     "data": {
      "text/plain": [
       "Period('2014-08', 'M')"
      ]
     },
     "metadata": {},
     "execution_count": 63
    }
   ],
   "metadata": {}
  },
  {
   "cell_type": "code",
   "execution_count": 65,
   "source": [
    "aug2014.start_time, aug2014.end_time"
   ],
   "outputs": [
    {
     "output_type": "execute_result",
     "data": {
      "text/plain": [
       "(Timestamp('2014-08-01 00:00:00'), Timestamp('2014-08-31 23:59:59.999999999'))"
      ]
     },
     "metadata": {},
     "execution_count": 65
    }
   ],
   "metadata": {}
  },
  {
   "cell_type": "code",
   "execution_count": 66,
   "source": [
    "sep2014 = aug2014 + 1\n",
    "sep2014"
   ],
   "outputs": [
    {
     "output_type": "execute_result",
     "data": {
      "text/plain": [
       "Period('2014-09', 'M')"
      ]
     },
     "metadata": {},
     "execution_count": 66
    }
   ],
   "metadata": {}
  },
  {
   "cell_type": "code",
   "execution_count": 67,
   "source": [
    "sep2014.start_time, sep2014.end_time"
   ],
   "outputs": [
    {
     "output_type": "execute_result",
     "data": {
      "text/plain": [
       "(Timestamp('2014-09-01 00:00:00'), Timestamp('2014-09-30 23:59:59.999999999'))"
      ]
     },
     "metadata": {},
     "execution_count": 67
    }
   ],
   "metadata": {}
  },
  {
   "cell_type": "code",
   "execution_count": 68,
   "source": [
    "mp2013 = pd.period_range('1/1/2013', '12/31/2013', freq='M')\n",
    "mp2013"
   ],
   "outputs": [
    {
     "output_type": "execute_result",
     "data": {
      "text/plain": [
       "PeriodIndex(['2013-01', '2013-02', '2013-03', '2013-04', '2013-05', '2013-06',\n",
       "             '2013-07', '2013-08', '2013-09', '2013-10', '2013-11', '2013-12'],\n",
       "            dtype='period[M]')"
      ]
     },
     "metadata": {},
     "execution_count": 68
    }
   ],
   "metadata": {}
  },
  {
   "cell_type": "markdown",
   "source": [
    "We can create a series with a PeriodIndex object as its index. This means that each row can represent a whole interval of time, instead of just a particular point in time"
   ],
   "metadata": {}
  },
  {
   "cell_type": "code",
   "execution_count": 74,
   "source": [
    "np.random.seed(123456)\n",
    "ps = pd.Series(np.random.randn(12), mp2013, name=\"SeriesName\")\n",
    "ps"
   ],
   "outputs": [
    {
     "output_type": "execute_result",
     "data": {
      "text/plain": [
       "2013-01    0.4691123\n",
       "2013-02   -0.2828633\n",
       "2013-03   -1.5090585\n",
       "2013-04   -1.1356324\n",
       "2013-05    1.2121120\n",
       "2013-06   -0.1732146\n",
       "2013-07    0.1192087\n",
       "2013-08   -1.0442360\n",
       "2013-09   -0.8618490\n",
       "2013-10   -2.1045692\n",
       "2013-11   -0.4949293\n",
       "2013-12    1.0718038\n",
       "Freq: M, Name: SeriesName, dtype: float64"
      ]
     },
     "metadata": {},
     "execution_count": 74
    }
   ],
   "metadata": {}
  },
  {
   "cell_type": "markdown",
   "source": [
    "-------\n",
    "# Shifting and lagging time series data"
   ],
   "metadata": {}
  },
  {
   "cell_type": "code",
   "execution_count": 75,
   "source": [
    "msftAC.head(10)"
   ],
   "outputs": [
    {
     "output_type": "execute_result",
     "data": {
      "text/plain": [
       "Date\n",
       "2012-01-03    21.7074871\n",
       "2012-01-04    22.2183437\n",
       "2012-01-05    22.4453945\n",
       "2012-01-06    22.7940826\n",
       "2012-01-09    22.4940510\n",
       "2012-01-10    22.5751400\n",
       "2012-01-11    22.4778309\n",
       "2012-01-12    22.7048779\n",
       "2012-01-13    22.9075966\n",
       "2012-01-17    22.9157104\n",
       "Name: Adj Close, dtype: float64"
      ]
     },
     "metadata": {},
     "execution_count": 75
    }
   ],
   "metadata": {}
  },
  {
   "cell_type": "code",
   "execution_count": 82,
   "source": [
    "shifted_forward = msftAC.shift(20)\n",
    "shifted_forward.head(10)"
   ],
   "outputs": [
    {
     "output_type": "execute_result",
     "data": {
      "text/plain": [
       "Date\n",
       "2012-01-03   NaN\n",
       "2012-01-04   NaN\n",
       "2012-01-05   NaN\n",
       "2012-01-06   NaN\n",
       "2012-01-09   NaN\n",
       "2012-01-10   NaN\n",
       "2012-01-11   NaN\n",
       "2012-01-12   NaN\n",
       "2012-01-13   NaN\n",
       "2012-01-17   NaN\n",
       "Name: Adj Close, dtype: float64"
      ]
     },
     "metadata": {},
     "execution_count": 82
    }
   ],
   "metadata": {}
  },
  {
   "cell_type": "code",
   "execution_count": 85,
   "source": [
    "ds = pd.concat([msftAC, shifted_forward], axis=1)\n",
    "ds.plot(figsize=(20,5))"
   ],
   "outputs": [
    {
     "output_type": "execute_result",
     "data": {
      "text/plain": [
       "<AxesSubplot:xlabel='Date'>"
      ]
     },
     "metadata": {},
     "execution_count": 85
    },
    {
     "output_type": "display_data",
     "data": {
      "image/png": "[encoded data removed]",
      "text/plain": [
       "<Figure size 1440x360 with 1 Axes>"
      ]
     },
     "metadata": {
      "needs_background": "light"
     }
    }
   ],
   "metadata": {}
  },
  {
   "cell_type": "code",
   "execution_count": 86,
   "source": [
    "msftAC.shift(1, freq='S')"
   ],
   "outputs": [
    {
     "output_type": "execute_result",
     "data": {
      "text/plain": [
       "Date\n",
       "2012-01-03 00:00:01    21.7074871\n",
       "2012-01-04 00:00:01    22.2183437\n",
       "2012-01-05 00:00:01    22.4453945\n",
       "2012-01-06 00:00:01    22.7940826\n",
       "2012-01-09 00:00:01    22.4940510\n",
       "                          ...    \n",
       "2013-12-23 00:00:01    31.4584751\n",
       "2013-12-24 00:00:01    31.8536453\n",
       "2013-12-26 00:00:01    32.1628914\n",
       "2013-12-27 00:00:01    32.0340500\n",
       "2013-12-30 00:00:01    32.0340500\n",
       "Name: Adj Close, Length: 501, dtype: float64"
      ]
     },
     "metadata": {},
     "execution_count": 86
    }
   ],
   "metadata": {}
  },
  {
   "cell_type": "markdown",
   "source": [
    "We can use pd.shift() for calculating percent change in price over a period of time (eg. % change in price daily)"
   ],
   "metadata": {}
  },
  {
   "cell_type": "code",
   "execution_count": 90,
   "source": [
    "msftAC / msftAC.shift(1)-1"
   ],
   "outputs": [
    {
     "output_type": "execute_result",
     "data": {
      "text/plain": [
       "Date\n",
       "2012-01-03          NaN\n",
       "2012-01-04    0.0235337\n",
       "2012-01-05    0.0102191\n",
       "2012-01-06    0.0155350\n",
       "2012-01-09   -0.0131627\n",
       "                ...    \n",
       "2013-12-23   -0.0048913\n",
       "2013-12-24    0.0125616\n",
       "2013-12-26    0.0097083\n",
       "2013-12-27   -0.0040059\n",
       "2013-12-30    0.0000000\n",
       "Name: Adj Close, Length: 501, dtype: float64"
      ]
     },
     "metadata": {},
     "execution_count": 90
    }
   ],
   "metadata": {}
  },
  {
   "cell_type": "markdown",
   "source": [
    "-----\n",
    "# Frequency conversion of time-series data"
   ],
   "metadata": {}
  },
  {
   "cell_type": "code",
   "execution_count": 91,
   "source": [
    "sample = msftAC[:2]\n",
    "sample"
   ],
   "outputs": [
    {
     "output_type": "execute_result",
     "data": {
      "text/plain": [
       "Date\n",
       "2012-01-03    21.7074871\n",
       "2012-01-04    22.2183437\n",
       "Name: Adj Close, dtype: float64"
      ]
     },
     "metadata": {},
     "execution_count": 91
    }
   ],
   "metadata": {}
  },
  {
   "cell_type": "markdown",
   "source": [
    "In the previous cell we grabbed the adjusted close price of MSFT stock for the 3rd (and 4th) day of January 2012. Suppose we want to resample this data, and get information about the change in price over those two days, but hourly."
   ],
   "metadata": {}
  },
  {
   "cell_type": "code",
   "execution_count": 93,
   "source": [
    "sample.asfreq(\"H\") # this will only cover the 3rd day: the last entry will be the price at 00:00:00 on January 4th!"
   ],
   "outputs": [
    {
     "output_type": "execute_result",
     "data": {
      "text/plain": [
       "Date\n",
       "2012-01-03 00:00:00    21.7074871\n",
       "2012-01-03 01:00:00           NaN\n",
       "2012-01-03 02:00:00           NaN\n",
       "2012-01-03 03:00:00           NaN\n",
       "2012-01-03 04:00:00           NaN\n",
       "2012-01-03 05:00:00           NaN\n",
       "2012-01-03 06:00:00           NaN\n",
       "2012-01-03 07:00:00           NaN\n",
       "2012-01-03 08:00:00           NaN\n",
       "2012-01-03 09:00:00           NaN\n",
       "2012-01-03 10:00:00           NaN\n",
       "2012-01-03 11:00:00           NaN\n",
       "2012-01-03 12:00:00           NaN\n",
       "2012-01-03 13:00:00           NaN\n",
       "2012-01-03 14:00:00           NaN\n",
       "2012-01-03 15:00:00           NaN\n",
       "2012-01-03 16:00:00           NaN\n",
       "2012-01-03 17:00:00           NaN\n",
       "2012-01-03 18:00:00           NaN\n",
       "2012-01-03 19:00:00           NaN\n",
       "2012-01-03 20:00:00           NaN\n",
       "2012-01-03 21:00:00           NaN\n",
       "2012-01-03 22:00:00           NaN\n",
       "2012-01-03 23:00:00           NaN\n",
       "2012-01-04 00:00:00    22.2183437\n",
       "Freq: H, Name: Adj Close, dtype: float64"
      ]
     },
     "metadata": {},
     "execution_count": 93
    }
   ],
   "metadata": {}
  },
  {
   "cell_type": "markdown",
   "source": [
    "Pandas will fill all inbetween rows with NaNs by default. The pd.asfreq() method can be told how to fill those rows with the method parameter"
   ],
   "metadata": {}
  },
  {
   "cell_type": "code",
   "execution_count": 95,
   "source": [
    "sample.asfreq(\"H\", method='ffill') ## Fill all of jan-3 hours with the price at 00:00:00 jan-3"
   ],
   "outputs": [
    {
     "output_type": "execute_result",
     "data": {
      "text/plain": [
       "Date\n",
       "2012-01-03 00:00:00    21.7074871\n",
       "2012-01-03 01:00:00    21.7074871\n",
       "2012-01-03 02:00:00    21.7074871\n",
       "2012-01-03 03:00:00    21.7074871\n",
       "2012-01-03 04:00:00    21.7074871\n",
       "2012-01-03 05:00:00    21.7074871\n",
       "2012-01-03 06:00:00    21.7074871\n",
       "2012-01-03 07:00:00    21.7074871\n",
       "2012-01-03 08:00:00    21.7074871\n",
       "2012-01-03 09:00:00    21.7074871\n",
       "2012-01-03 10:00:00    21.7074871\n",
       "2012-01-03 11:00:00    21.7074871\n",
       "2012-01-03 12:00:00    21.7074871\n",
       "2012-01-03 13:00:00    21.7074871\n",
       "2012-01-03 14:00:00    21.7074871\n",
       "2012-01-03 15:00:00    21.7074871\n",
       "2012-01-03 16:00:00    21.7074871\n",
       "2012-01-03 17:00:00    21.7074871\n",
       "2012-01-03 18:00:00    21.7074871\n",
       "2012-01-03 19:00:00    21.7074871\n",
       "2012-01-03 20:00:00    21.7074871\n",
       "2012-01-03 21:00:00    21.7074871\n",
       "2012-01-03 22:00:00    21.7074871\n",
       "2012-01-03 23:00:00    21.7074871\n",
       "2012-01-04 00:00:00    22.2183437\n",
       "Freq: H, Name: Adj Close, dtype: float64"
      ]
     },
     "metadata": {},
     "execution_count": 95
    }
   ],
   "metadata": {}
  },
  {
   "cell_type": "code",
   "execution_count": 98,
   "source": [
    "sample.asfreq(\"H\", method=\"bfill\") # Fill backwards from the price at jan-4"
   ],
   "outputs": [
    {
     "output_type": "execute_result",
     "data": {
      "text/plain": [
       "Date\n",
       "2012-01-03 00:00:00    21.7074871\n",
       "2012-01-03 01:00:00    22.2183437\n",
       "2012-01-03 02:00:00    22.2183437\n",
       "2012-01-03 03:00:00    22.2183437\n",
       "2012-01-03 04:00:00    22.2183437\n",
       "2012-01-03 05:00:00    22.2183437\n",
       "2012-01-03 06:00:00    22.2183437\n",
       "2012-01-03 07:00:00    22.2183437\n",
       "2012-01-03 08:00:00    22.2183437\n",
       "2012-01-03 09:00:00    22.2183437\n",
       "2012-01-03 10:00:00    22.2183437\n",
       "2012-01-03 11:00:00    22.2183437\n",
       "2012-01-03 12:00:00    22.2183437\n",
       "2012-01-03 13:00:00    22.2183437\n",
       "2012-01-03 14:00:00    22.2183437\n",
       "2012-01-03 15:00:00    22.2183437\n",
       "2012-01-03 16:00:00    22.2183437\n",
       "2012-01-03 17:00:00    22.2183437\n",
       "2012-01-03 18:00:00    22.2183437\n",
       "2012-01-03 19:00:00    22.2183437\n",
       "2012-01-03 20:00:00    22.2183437\n",
       "2012-01-03 21:00:00    22.2183437\n",
       "2012-01-03 22:00:00    22.2183437\n",
       "2012-01-03 23:00:00    22.2183437\n",
       "2012-01-04 00:00:00    22.2183437\n",
       "Freq: H, Name: Adj Close, dtype: float64"
      ]
     },
     "metadata": {},
     "execution_count": 98
    }
   ],
   "metadata": {}
  },
  {
   "cell_type": "markdown",
   "source": [
    "---------\n",
    "# Resampling of time series \n",
    "\n",
    "Instead of simply filling missing values, we may resample, either downsample (eg. day-to-day to month-to-month)"
   ],
   "metadata": {}
  },
  {
   "cell_type": "markdown",
   "source": [
    "We will calculate daily cumulative for MSFT stock over 2012 and 2013 and resample it to monthly frequency. "
   ],
   "metadata": {}
  },
  {
   "cell_type": "code",
   "execution_count": 99,
   "source": [
    "msft_cum_ret = (1 + (msftAC/ msftAC.shift() - 1)).cumprod()\n",
    "msft_cum_ret"
   ],
   "outputs": [
    {
     "output_type": "execute_result",
     "data": {
      "text/plain": [
       "Date\n",
       "2012-01-03          NaN\n",
       "2012-01-04    1.0235337\n",
       "2012-01-05    1.0339932\n",
       "2012-01-06    1.0500563\n",
       "2012-01-09    1.0362347\n",
       "                ...    \n",
       "2013-12-23    1.4491993\n",
       "2013-12-24    1.4674036\n",
       "2013-12-26    1.4816497\n",
       "2013-12-27    1.4757143\n",
       "2013-12-30    1.4757143\n",
       "Name: Adj Close, Length: 501, dtype: float64"
      ]
     },
     "metadata": {},
     "execution_count": 99
    }
   ],
   "metadata": {}
  },
  {
   "cell_type": "code",
   "execution_count": 110,
   "source": [
    "# msft_monthly_cum_ret = msft_cum_ret.resample(\"M\", how='mean')  # this changed from the version of Pandas used in the book\n",
    "\n",
    "msft_monthly_cum_ret = msft_cum_ret.resample(\"M\") # pd.resample() returns a DatetimeIndexResample object\n",
    "msft_monthly_cum_ret.mean() # which seems to be lazily evaluated"
   ],
   "outputs": [
    {
     "output_type": "execute_result",
     "data": {
      "text/plain": [
       "Date\n",
       "2012-01-31    1.0686747\n",
       "2012-02-29    1.1556975\n",
       "2012-03-31    1.2105696\n",
       "2012-04-30    1.1846437\n",
       "2012-05-31    1.1405160\n",
       "2012-06-30    1.1233435\n",
       "2012-07-31    1.1262452\n",
       "2012-08-31    1.1536294\n",
       "2012-09-30    1.1727560\n",
       "2012-10-31    1.1073820\n",
       "2012-11-30    1.0648221\n",
       "2012-12-31    1.0358096\n",
       "2013-01-31    1.0462064\n",
       "2013-02-28    1.0678735\n",
       "2013-03-31    1.0898929\n",
       "2013-04-30    1.1568918\n",
       "2013-05-31    1.3204532\n",
       "2013-06-30    1.3507123\n",
       "2013-07-31    1.3124113\n",
       "2013-08-31    1.2726699\n",
       "2013-09-30    1.2773969\n",
       "2013-10-31    1.3503984\n",
       "2013-11-30    1.4719150\n",
       "2013-12-31    1.4823626\n",
       "Freq: M, Name: Adj Close, dtype: float64"
      ]
     },
     "metadata": {},
     "execution_count": 110
    }
   ],
   "metadata": {}
  },
  {
   "cell_type": "code",
   "execution_count": 112,
   "source": [
    "# msft_monthly_cum_ret = msft_cum_ret.resample(\"M\", how='ohlc') # in the book's version of pandas\n",
    "msft_monthly_cum_ret.ohlc() "
   ],
   "outputs": [
    {
     "output_type": "execute_result",
     "data": {
      "text/html": [
       "<div>\n",
       "<style scoped>\n",
       "    .dataframe tbody tr th:only-of-type {\n",
       "        vertical-align: middle;\n",
       "    }\n",
       "\n",
       "    .dataframe tbody tr th {\n",
       "        vertical-align: top;\n",
       "    }\n",
       "\n",
       "    .dataframe thead th {\n",
       "        text-align: right;\n",
       "    }\n",
       "</style>\n",
       "<table border=\"1\" class=\"dataframe\">\n",
       "  <thead>\n",
       "    <tr style=\"text-align: right;\">\n",
       "      <th></th>\n",
       "      <th>open</th>\n",
       "      <th>high</th>\n",
       "      <th>low</th>\n",
       "      <th>close</th>\n",
       "    </tr>\n",
       "    <tr>\n",
       "      <th>Date</th>\n",
       "      <th></th>\n",
       "      <th></th>\n",
       "      <th></th>\n",
       "      <th></th>\n",
       "    </tr>\n",
       "  </thead>\n",
       "  <tbody>\n",
       "    <tr>\n",
       "      <th>2012-01-31</th>\n",
       "      <td>1.0235337</td>\n",
       "      <td>1.1105716</td>\n",
       "      <td>1.0235337</td>\n",
       "      <td>1.1031006</td>\n",
       "    </tr>\n",
       "    <tr>\n",
       "      <th>2012-02-29</th>\n",
       "      <td>1.1165485</td>\n",
       "      <td>1.1983492</td>\n",
       "      <td>1.1165485</td>\n",
       "      <td>1.1934611</td>\n",
       "    </tr>\n",
       "    <tr>\n",
       "      <th>2012-03-31</th>\n",
       "      <td>1.2141419</td>\n",
       "      <td>1.2351985</td>\n",
       "      <td>1.1866927</td>\n",
       "      <td>1.2130136</td>\n",
       "    </tr>\n",
       "    <tr>\n",
       "      <th>2012-04-30</th>\n",
       "      <td>1.2141419</td>\n",
       "      <td>1.2190299</td>\n",
       "      <td>1.1411956</td>\n",
       "      <td>1.2039894</td>\n",
       "    </tr>\n",
       "    <tr>\n",
       "      <th>2012-05-31</th>\n",
       "      <td>1.2036133</td>\n",
       "      <td>1.2036133</td>\n",
       "      <td>1.0998597</td>\n",
       "      <td>1.1047801</td>\n",
       "    </tr>\n",
       "    <tr>\n",
       "      <th>2012-06-30</th>\n",
       "      <td>1.0767728</td>\n",
       "      <td>1.1706355</td>\n",
       "      <td>1.0767728</td>\n",
       "      <td>1.1577673</td>\n",
       "    </tr>\n",
       "    <tr>\n",
       "      <th>2012-07-31</th>\n",
       "      <td>1.1566316</td>\n",
       "      <td>1.1642013</td>\n",
       "      <td>1.0835851</td>\n",
       "      <td>1.1153774</td>\n",
       "    </tr>\n",
       "    <tr>\n",
       "      <th>2012-08-31</th>\n",
       "      <td>1.1131066</td>\n",
       "      <td>1.1772476</td>\n",
       "      <td>1.1047801</td>\n",
       "      <td>1.1741998</td>\n",
       "    </tr>\n",
       "    <tr>\n",
       "      <th>2012-09-30</th>\n",
       "      <td>1.1578170</td>\n",
       "      <td>1.1982018</td>\n",
       "      <td>1.1338155</td>\n",
       "      <td>1.1338155</td>\n",
       "    </tr>\n",
       "    <tr>\n",
       "      <th>2012-10-31</th>\n",
       "      <td>1.1235285</td>\n",
       "      <td>1.1441018</td>\n",
       "      <td>1.0621897</td>\n",
       "      <td>1.0873347</td>\n",
       "    </tr>\n",
       "    <tr>\n",
       "      <th>2012-11-30</th>\n",
       "      <td>1.1246716</td>\n",
       "      <td>1.1376249</td>\n",
       "      <td>1.0186780</td>\n",
       "      <td>1.0225193</td>\n",
       "    </tr>\n",
       "    <tr>\n",
       "      <th>2012-12-31</th>\n",
       "      <td>1.0152209</td>\n",
       "      <td>1.0632354</td>\n",
       "      <td>1.0129162</td>\n",
       "      <td>1.0259762</td>\n",
       "    </tr>\n",
       "    <tr>\n",
       "      <th>2013-01-31</th>\n",
       "      <td>1.0609311</td>\n",
       "      <td>1.0759118</td>\n",
       "      <td>1.0163733</td>\n",
       "      <td>1.0544010</td>\n",
       "    </tr>\n",
       "    <tr>\n",
       "      <th>2013-02-28</th>\n",
       "      <td>1.0728385</td>\n",
       "      <td>1.0863685</td>\n",
       "      <td>1.0478711</td>\n",
       "      <td>1.0766859</td>\n",
       "    </tr>\n",
       "    <tr>\n",
       "      <th>2013-03-31</th>\n",
       "      <td>1.0824954</td>\n",
       "      <td>1.1080572</td>\n",
       "      <td>1.0793970</td>\n",
       "      <td>1.1080572</td>\n",
       "    </tr>\n",
       "    <tr>\n",
       "      <th>2013-04-30</th>\n",
       "      <td>1.1080572</td>\n",
       "      <td>1.2819534</td>\n",
       "      <td>1.1061209</td>\n",
       "      <td>1.2819534</td>\n",
       "    </tr>\n",
       "    <tr>\n",
       "      <th>2013-05-31</th>\n",
       "      <td>1.2672362</td>\n",
       "      <td>1.3681653</td>\n",
       "      <td>1.2649124</td>\n",
       "      <td>1.3611451</td>\n",
       "    </tr>\n",
       "    <tr>\n",
       "      <th>2013-06-30</th>\n",
       "      <td>1.3880561</td>\n",
       "      <td>1.3911762</td>\n",
       "      <td>1.2975731</td>\n",
       "      <td>1.3471048</td>\n",
       "    </tr>\n",
       "    <tr>\n",
       "      <th>2013-07-31</th>\n",
       "      <td>1.3400845</td>\n",
       "      <td>1.4145770</td>\n",
       "      <td>1.2242506</td>\n",
       "      <td>1.2418014</td>\n",
       "    </tr>\n",
       "    <tr>\n",
       "      <th>2013-08-31</th>\n",
       "      <td>1.2351712</td>\n",
       "      <td>1.3648451</td>\n",
       "      <td>1.2316611</td>\n",
       "      <td>1.3118224</td>\n",
       "    </tr>\n",
       "    <tr>\n",
       "      <th>2013-09-30</th>\n",
       "      <td>1.2521230</td>\n",
       "      <td>1.3212489</td>\n",
       "      <td>1.2234511</td>\n",
       "      <td>1.3071092</td>\n",
       "    </tr>\n",
       "    <tr>\n",
       "      <th>2013-10-31</th>\n",
       "      <td>1.3188926</td>\n",
       "      <td>1.4033357</td>\n",
       "      <td>1.2965047</td>\n",
       "      <td>1.3907671</td>\n",
       "    </tr>\n",
       "    <tr>\n",
       "      <th>2013-11-30</th>\n",
       "      <td>1.3954807</td>\n",
       "      <td>1.5089567</td>\n",
       "      <td>1.3954807</td>\n",
       "      <td>1.5089567</td>\n",
       "    </tr>\n",
       "    <tr>\n",
       "      <th>2013-12-31</th>\n",
       "      <td>1.5216202</td>\n",
       "      <td>1.5410112</td>\n",
       "      <td>1.4345576</td>\n",
       "      <td>1.4757143</td>\n",
       "    </tr>\n",
       "  </tbody>\n",
       "</table>\n",
       "</div>"
      ],
      "text/plain": [
       "                 open       high        low      close\n",
       "Date                                                  \n",
       "2012-01-31  1.0235337  1.1105716  1.0235337  1.1031006\n",
       "2012-02-29  1.1165485  1.1983492  1.1165485  1.1934611\n",
       "2012-03-31  1.2141419  1.2351985  1.1866927  1.2130136\n",
       "2012-04-30  1.2141419  1.2190299  1.1411956  1.2039894\n",
       "2012-05-31  1.2036133  1.2036133  1.0998597  1.1047801\n",
       "2012-06-30  1.0767728  1.1706355  1.0767728  1.1577673\n",
       "2012-07-31  1.1566316  1.1642013  1.0835851  1.1153774\n",
       "2012-08-31  1.1131066  1.1772476  1.1047801  1.1741998\n",
       "2012-09-30  1.1578170  1.1982018  1.1338155  1.1338155\n",
       "2012-10-31  1.1235285  1.1441018  1.0621897  1.0873347\n",
       "2012-11-30  1.1246716  1.1376249  1.0186780  1.0225193\n",
       "2012-12-31  1.0152209  1.0632354  1.0129162  1.0259762\n",
       "2013-01-31  1.0609311  1.0759118  1.0163733  1.0544010\n",
       "2013-02-28  1.0728385  1.0863685  1.0478711  1.0766859\n",
       "2013-03-31  1.0824954  1.1080572  1.0793970  1.1080572\n",
       "2013-04-30  1.1080572  1.2819534  1.1061209  1.2819534\n",
       "2013-05-31  1.2672362  1.3681653  1.2649124  1.3611451\n",
       "2013-06-30  1.3880561  1.3911762  1.2975731  1.3471048\n",
       "2013-07-31  1.3400845  1.4145770  1.2242506  1.2418014\n",
       "2013-08-31  1.2351712  1.3648451  1.2316611  1.3118224\n",
       "2013-09-30  1.2521230  1.3212489  1.2234511  1.3071092\n",
       "2013-10-31  1.3188926  1.4033357  1.2965047  1.3907671\n",
       "2013-11-30  1.3954807  1.5089567  1.3954807  1.5089567\n",
       "2013-12-31  1.5216202  1.5410112  1.4345576  1.4757143"
      ]
     },
     "metadata": {},
     "execution_count": 112
    }
   ],
   "metadata": {}
  },
  {
   "cell_type": "code",
   "execution_count": 113,
   "source": [
    "msft_monthly_cum_ret.ohlc().plot()"
   ],
   "outputs": [
    {
     "output_type": "execute_result",
     "data": {
      "text/plain": [
       "<AxesSubplot:xlabel='Date'>"
      ]
     },
     "metadata": {},
     "execution_count": 113
    },
    {
     "output_type": "display_data",
     "data": {
      "image/png": "[encoded data removed]",
      "text/plain": [
       "<Figure size 432x288 with 1 Axes>"
      ]
     },
     "metadata": {
      "needs_background": "light"
     }
    }
   ],
   "metadata": {}
  },
  {
   "cell_type": "code",
   "execution_count": null,
   "source": [],
   "outputs": [],
   "metadata": {}
  }
 ],
 "metadata": {
  "orig_nbformat": 4,
  "language_info": {
   "name": "python",
   "version": "3.9.5",
   "mimetype": "text/x-python",
   "codemirror_mode": {
    "name": "ipython",
    "version": 3
   },
   "pygments_lexer": "ipython3",
   "nbconvert_exporter": "python",
   "file_extension": ".py"
  },
  "kernelspec": {
   "name": "python3",
   "display_name": "Python 3.9.5 64-bit ('PandasFinance': venv)"
  },
  "interpreter": {
   "hash": "641256180100728217a0570a33b0f31475bdb8f93ec3174f6d90cd2e63fb735e"
  }
 },
 "nbformat": 4,
 "nbformat_minor": 2
}
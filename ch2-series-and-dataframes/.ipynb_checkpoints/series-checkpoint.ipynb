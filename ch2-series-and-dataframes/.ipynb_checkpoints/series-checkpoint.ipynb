{
 "cells": [
  {
   "cell_type": "code",
   "execution_count": 1,
   "id": "593bdc20",
   "metadata": {
    "id": "f4289fca-86e4-442c-a2cd-db8dadec33dc"
   },
   "outputs": [],
   "source": [
    "import pandas as pd\n",
    "import numpy as np"
   ]
  },
  {
   "cell_type": "code",
   "execution_count": 2,
   "id": "0930638d",
   "metadata": {
    "id": "40c417c0-f7bb-4688-b8e0-1008452299ae"
   },
   "outputs": [],
   "source": [
    "pd.set_option('display.notebook_repr_html', False)\n",
    "pd.set_option('display.max_columns', 8)\n",
    "pd.set_option('display.max_rows', 8)"
   ]
  },
  {
   "cell_type": "markdown",
   "id": "f8ed2649",
   "metadata": {
    "id": "CzJvMl5pkzJO"
   },
   "source": [
    "---------\n",
    "# Series"
   ]
  },
  {
   "cell_type": "code",
   "execution_count": 3,
   "id": "9d70350b",
   "metadata": {
    "id": "e13b462e-fdca-4dca-864c-913eabe4ebd3"
   },
   "outputs": [],
   "source": [
    "s = pd.Series(np.random.rand(10))"
   ]
  },
  {
   "cell_type": "code",
   "execution_count": 4,
   "id": "b044dddc",
   "metadata": {
    "colab": {
     "base_uri": "https://localhost:8080/"
    },
    "id": "ixLux7pnhR43",
    "outputId": "0912f325-ff2e-424d-8ae7-84da8440533e"
   },
   "outputs": [
    {
     "data": {
      "text/plain": [
       "0    0.913613\n",
       "1    0.427257\n",
       "2    0.166348\n",
       "3    0.539684\n",
       "       ...   \n",
       "6    0.112187\n",
       "7    0.384593\n",
       "8    0.246150\n",
       "9    0.118775\n",
       "Length: 10, dtype: float64"
      ]
     },
     "execution_count": 4,
     "metadata": {},
     "output_type": "execute_result"
    }
   ],
   "source": [
    "s"
   ]
  },
  {
   "cell_type": "code",
   "execution_count": 5,
   "id": "76a06f9b",
   "metadata": {
    "colab": {
     "base_uri": "https://localhost:8080/"
    },
    "id": "l7AJaEU5hc9f",
    "outputId": "44253f32-4294-4b14-b9e8-d37b9b42b772"
   },
   "outputs": [
    {
     "data": {
      "text/plain": [
       "RangeIndex(start=0, stop=10, step=1)"
      ]
     },
     "execution_count": 5,
     "metadata": {},
     "output_type": "execute_result"
    }
   ],
   "source": [
    "s.index"
   ]
  },
  {
   "cell_type": "code",
   "execution_count": 6,
   "id": "cff7df60",
   "metadata": {
    "colab": {
     "base_uri": "https://localhost:8080/"
    },
    "id": "mVHCKtn2hhXW",
    "outputId": "9f7228ba-df50-4110-fc02-197a79a56fbc"
   },
   "outputs": [
    {
     "data": {
      "text/plain": [
       "array([0.91361313, 0.42725709, 0.16634834, 0.53968405, 0.08984242,\n",
       "       0.03297377, 0.1121867 , 0.38459344, 0.24615022, 0.11877545])"
      ]
     },
     "execution_count": 6,
     "metadata": {},
     "output_type": "execute_result"
    }
   ],
   "source": [
    "s.values"
   ]
  },
  {
   "cell_type": "code",
   "execution_count": 7,
   "id": "e3cf8e01",
   "metadata": {
    "id": "vlDcw3oChp41"
   },
   "outputs": [],
   "source": [
    "s = pd.Series([1,2,3,4], index=['a','b','c','d'])"
   ]
  },
  {
   "cell_type": "code",
   "execution_count": 8,
   "id": "7454adec",
   "metadata": {
    "colab": {
     "base_uri": "https://localhost:8080/"
    },
    "id": "pt7ZGeZ3h61u",
    "outputId": "132992e7-e12f-4062-9394-826945a0d053"
   },
   "outputs": [
    {
     "data": {
      "text/plain": [
       "a    1\n",
       "b    2\n",
       "c    3\n",
       "d    4\n",
       "dtype: int64"
      ]
     },
     "execution_count": 8,
     "metadata": {},
     "output_type": "execute_result"
    }
   ],
   "source": [
    "s"
   ]
  },
  {
   "cell_type": "code",
   "execution_count": 9,
   "id": "ea19a80f",
   "metadata": {
    "colab": {
     "base_uri": "https://localhost:8080/"
    },
    "id": "ECYX2MNKiZSQ",
    "outputId": "c815c996-8e44-4996-9fbd-5f81fd83f64f"
   },
   "outputs": [
    {
     "data": {
      "text/plain": [
       "a    1\n",
       "b    2\n",
       "c    3\n",
       "d    4\n",
       "0    5\n",
       "dtype: int64"
      ]
     },
     "execution_count": 9,
     "metadata": {},
     "output_type": "execute_result"
    }
   ],
   "source": [
    "k = s.append(pd.Series(5)) \n",
    "k"
   ]
  },
  {
   "cell_type": "code",
   "execution_count": 10,
   "id": "ee0d825a",
   "metadata": {
    "colab": {
     "base_uri": "https://localhost:8080/"
    },
    "id": "BPErViLxi3EZ",
    "outputId": "87a2ca6b-8cb7-4189-e453-dd53317763ef"
   },
   "outputs": [
    {
     "data": {
      "text/plain": [
       "(5,)"
      ]
     },
     "execution_count": 10,
     "metadata": {},
     "output_type": "execute_result"
    }
   ],
   "source": [
    "k.shape"
   ]
  },
  {
   "cell_type": "code",
   "execution_count": 11,
   "id": "21357cba",
   "metadata": {
    "colab": {
     "base_uri": "https://localhost:8080/"
    },
    "id": "MoGV3pP6jVdk",
    "outputId": "a1e20cea-8ad6-4b64-ebd1-849e8e0cad52"
   },
   "outputs": [
    {
     "data": {
      "text/plain": [
       "5"
      ]
     },
     "execution_count": 11,
     "metadata": {},
     "output_type": "execute_result"
    }
   ],
   "source": [
    "k.count()"
   ]
  },
  {
   "cell_type": "code",
   "execution_count": 12,
   "id": "fef2d596",
   "metadata": {
    "colab": {
     "base_uri": "https://localhost:8080/"
    },
    "id": "6AgcYyr-jmVz",
    "outputId": "5719ec22-0385-4c0e-a580-21d9c36adbe3"
   },
   "outputs": [
    {
     "data": {
      "text/plain": [
       "array([1, 2, 3, 4, 5])"
      ]
     },
     "execution_count": 12,
     "metadata": {},
     "output_type": "execute_result"
    }
   ],
   "source": [
    "k.unique()"
   ]
  },
  {
   "cell_type": "code",
   "execution_count": 13,
   "id": "5f69987e",
   "metadata": {
    "colab": {
     "base_uri": "https://localhost:8080/"
    },
    "id": "wMBMmV9bjuop",
    "outputId": "d98dfacd-bda8-46c2-c1d5-a8cefe69cc3c"
   },
   "outputs": [
    {
     "data": {
      "text/plain": [
       "1    1\n",
       "2    1\n",
       "3    1\n",
       "4    1\n",
       "5    1\n",
       "dtype: int64"
      ]
     },
     "execution_count": 13,
     "metadata": {},
     "output_type": "execute_result"
    }
   ],
   "source": [
    "k.value_counts()"
   ]
  },
  {
   "cell_type": "code",
   "execution_count": 14,
   "id": "e7df6d7d",
   "metadata": {
    "colab": {
     "base_uri": "https://localhost:8080/"
    },
    "id": "-f4Ero03j4Pn",
    "outputId": "846c2d68-480d-4008-8b94-d08135aec8f1"
   },
   "outputs": [
    {
     "data": {
      "text/plain": [
       "a    1\n",
       "b    2\n",
       "c    3\n",
       "d    4\n",
       "dtype: int64"
      ]
     },
     "execution_count": 14,
     "metadata": {},
     "output_type": "execute_result"
    }
   ],
   "source": [
    "s3 = pd.Series([1,2,3,4], index=['a','b','c','d'])\n",
    "s3"
   ]
  },
  {
   "cell_type": "code",
   "execution_count": 15,
   "id": "c8f867b6",
   "metadata": {
    "colab": {
     "base_uri": "https://localhost:8080/"
    },
    "id": "6hjjB4EZkNXs",
    "outputId": "4f8b42d2-8891-484d-a645-353c5c883870"
   },
   "outputs": [
    {
     "data": {
      "text/plain": [
       "d    4\n",
       "c    3\n",
       "b    2\n",
       "a    1\n",
       "dtype: int64"
      ]
     },
     "execution_count": 15,
     "metadata": {},
     "output_type": "execute_result"
    }
   ],
   "source": [
    "s4 = pd.Series([4,3,2,1], index=['d','c','b','a'])\n",
    "s4"
   ]
  },
  {
   "cell_type": "code",
   "execution_count": 16,
   "id": "d43871f0",
   "metadata": {
    "colab": {
     "base_uri": "https://localhost:8080/"
    },
    "id": "jD_TnwFzkd16",
    "outputId": "a4bc8cc1-6930-456e-c318-99393631a7b0"
   },
   "outputs": [
    {
     "data": {
      "text/plain": [
       "a    2\n",
       "b    4\n",
       "c    6\n",
       "d    8\n",
       "dtype: int64"
      ]
     },
     "execution_count": 16,
     "metadata": {},
     "output_type": "execute_result"
    }
   ],
   "source": [
    "s3 + s4"
   ]
  },
  {
   "cell_type": "markdown",
   "id": "91071401",
   "metadata": {
    "id": "yFTSE6BWk6Na"
   },
   "source": [
    "---------\n",
    "# DataFrames"
   ]
  },
  {
   "cell_type": "code",
   "execution_count": 17,
   "id": "3aa4bf4d",
   "metadata": {
    "colab": {
     "base_uri": "https://localhost:8080/"
    },
    "id": "pdsg34ytkkxV",
    "outputId": "395af1a9-d542-4a06-8eec-23018203c1b3"
   },
   "outputs": [
    {
     "data": {
      "text/plain": [
       "    0   1\n",
       "0  10  11\n",
       "1  20  21"
      ]
     },
     "execution_count": 17,
     "metadata": {},
     "output_type": "execute_result"
    }
   ],
   "source": [
    "df = pd.DataFrame(np.array([[10,11], [20,21]]))\n",
    "df\n"
   ]
  },
  {
   "cell_type": "code",
   "execution_count": 18,
   "id": "84774471",
   "metadata": {
    "colab": {
     "base_uri": "https://localhost:8080/"
    },
    "id": "DOhHIbHRlJYA",
    "outputId": "ae896923-b480-449d-bb98-fd21437bc1e4"
   },
   "outputs": [
    {
     "data": {
      "text/plain": [
       "    0   1\n",
       "a  10  11\n",
       "b  20  21"
      ]
     },
     "execution_count": 18,
     "metadata": {},
     "output_type": "execute_result"
    }
   ],
   "source": [
    "df.index= ['a','b']\n",
    "df"
   ]
  },
  {
   "cell_type": "code",
   "execution_count": 19,
   "id": "055a9d7b",
   "metadata": {
    "colab": {
     "base_uri": "https://localhost:8080/"
    },
    "id": "I-sDlN9MlZpA",
    "outputId": "f167d3af-8764-40f4-f50e-0dba6d235c8f"
   },
   "outputs": [
    {
     "data": {
      "text/plain": [
       "    x   y\n",
       "a  10  11\n",
       "b  20  21"
      ]
     },
     "execution_count": 19,
     "metadata": {},
     "output_type": "execute_result"
    }
   ],
   "source": [
    "df.columns=['x','y']\n",
    "df"
   ]
  },
  {
   "cell_type": "code",
   "execution_count": 20,
   "id": "a754b9d7",
   "metadata": {
    "colab": {
     "base_uri": "https://localhost:8080/"
    },
    "id": "aDHRMoM9lf0f",
    "outputId": "1a537b46-aaa5-41b6-fe04-a7f29cbfe91a"
   },
   "outputs": [
    {
     "data": {
      "text/plain": [
       "    0   1   2   3   4\n",
       "0  10  11  12  13  14\n",
       "1  15  16  17  18  19"
      ]
     },
     "execution_count": 20,
     "metadata": {},
     "output_type": "execute_result"
    }
   ],
   "source": [
    "df1 = pd.DataFrame([pd.Series(np.arange(10,15)),\n",
    "                    pd.Series(np.arange(15,20))])\n",
    "df1"
   ]
  },
  {
   "cell_type": "code",
   "execution_count": 21,
   "id": "f4aea058",
   "metadata": {
    "colab": {
     "base_uri": "https://localhost:8080/"
    },
    "id": "JoqT3MsnlyuE",
    "outputId": "985b6b18-822c-4666-f0af-c4bdf44908a3"
   },
   "outputs": [
    {
     "data": {
      "text/plain": [
       "(2, 5)"
      ]
     },
     "execution_count": 21,
     "metadata": {},
     "output_type": "execute_result"
    }
   ],
   "source": [
    "df1.shape"
   ]
  },
  {
   "cell_type": "code",
   "execution_count": 22,
   "id": "456098c4",
   "metadata": {
    "colab": {
     "base_uri": "https://localhost:8080/"
    },
    "id": "jga0H6kKl2yb",
    "outputId": "dc7a4060-a62d-4599-e652-6855d306a176"
   },
   "outputs": [
    {
     "data": {
      "text/plain": [
       "   c1  c2\n",
       "a  10  11\n",
       "b  20  21"
      ]
     },
     "execution_count": 22,
     "metadata": {},
     "output_type": "execute_result"
    }
   ],
   "source": [
    "df.columns = ['c1', 'c2']\n",
    "df "
   ]
  },
  {
   "cell_type": "code",
   "execution_count": 23,
   "id": "5f4fc9af",
   "metadata": {
    "colab": {
     "base_uri": "https://localhost:8080/"
    },
    "id": "5rsFfJr3mDnJ",
    "outputId": "df489a19-0d91-4e95-e131-528dd2521d36"
   },
   "outputs": [
    {
     "data": {
      "text/plain": [
       "Index(['a', 'b'], dtype='object')"
      ]
     },
     "execution_count": 23,
     "metadata": {},
     "output_type": "execute_result"
    }
   ],
   "source": [
    "df.index"
   ]
  },
  {
   "cell_type": "code",
   "execution_count": 24,
   "id": "e9f5f80c",
   "metadata": {
    "colab": {
     "base_uri": "https://localhost:8080/"
    },
    "id": "MWavt3IJmccO",
    "outputId": "d123c6b9-8e30-4f59-f351-39354f937eb8"
   },
   "outputs": [
    {
     "data": {
      "text/plain": [
       "array([[10, 11],\n",
       "       [20, 21]])"
      ]
     },
     "execution_count": 24,
     "metadata": {},
     "output_type": "execute_result"
    }
   ],
   "source": [
    "df.values"
   ]
  },
  {
   "cell_type": "markdown",
   "id": "9f81e8bb",
   "metadata": {
    "id": "89759FPBmmdL"
   },
   "source": [
    "-----------"
   ]
  },
  {
   "cell_type": "code",
   "execution_count": 25,
   "id": "b6461708",
   "metadata": {
    "colab": {
     "base_uri": "https://localhost:8080/"
    },
    "id": "X9MzkEhnmgw4",
    "outputId": "b97c1306-ec37-45c3-94d5-bdd5800e7a0c"
   },
   "outputs": [
    {
     "data": {
      "text/plain": [
       "   c1  c2    c3\n",
       "0   1   6   NaN\n",
       "1   2   7  12.0\n",
       "2   3   8  13.0\n",
       "3   4   9   NaN\n",
       "4   5  10   NaN"
      ]
     },
     "execution_count": 25,
     "metadata": {},
     "output_type": "execute_result"
    }
   ],
   "source": [
    "s1 = pd.Series(np.arange(1,6,1))\n",
    "s2 = pd.Series(np.arange(6,11,1))\n",
    "s3 = pd.Series(np.arange(12,14), index=[1,2])\n",
    "pd.DataFrame({'c1':s1, 'c2':s2, 'c3': s3})"
   ]
  },
  {
   "cell_type": "markdown",
   "id": "a41f8eaa",
   "metadata": {},
   "source": [
    "-----------\n",
    "# Example "
   ]
  },
  {
   "cell_type": "code",
   "execution_count": 29,
   "id": "29c54c3e",
   "metadata": {},
   "outputs": [
    {
     "name": "stdout",
     "output_type": "stream",
     "text": [
      "  Symbol                 Name                  Sector   Price  ...  EBITDA  \\\n",
      "0    MMM               3M Co.             Industrials  141.14  ...   8.121   \n",
      "1    ABT  Abbott Laboratories             Health Care   39.60  ...   4.359   \n",
      "2   ABBV          AbbVie Inc.             Health Care   53.95  ...   7.190   \n",
      "3    ACN            Accenture  Information Technology   79.79  ...   4.423   \n",
      "4    ACE          ACE Limited              Financials  102.91  ...   4.275   \n",
      "\n",
      "   Price/Sales  Price/Book                                        SEC Filings  \n",
      "0         2.95        5.26  http://www.sec.gov/cgi-bin/browse-edgar?action...  \n",
      "1         2.74        2.55  http://www.sec.gov/cgi-bin/browse-edgar?action...  \n",
      "2         4.48       18.16  http://www.sec.gov/cgi-bin/browse-edgar?action...  \n",
      "3         1.75        9.54  http://www.sec.gov/cgi-bin/browse-edgar?action...  \n",
      "4         1.79        1.18  http://www.sec.gov/cgi-bin/browse-edgar?action...  \n",
      "\n",
      "[5 rows x 15 columns]\n"
     ]
    }
   ],
   "source": [
    "sp500 = pd.read_csv(\"../data/sp500.csv\")\n",
    "sp500.head()"
   ]
  },
  {
   "cell_type": "code",
   "execution_count": null,
   "id": "96f7c30c",
   "metadata": {},
   "outputs": [],
   "source": []
  }
 ],
 "metadata": {
  "colab": {
   "name": "series.ipynb",
   "provenance": []
  },
  "interpreter": {
   "hash": "641256180100728217a0570a33b0f31475bdb8f93ec3174f6d90cd2e63fb735e"
  },
  "kernelspec": {
   "display_name": "Python 3 (ipykernel)",
   "language": "python",
   "name": "python3"
  },
  "language_info": {
   "codemirror_mode": {
    "name": "ipython",
    "version": 3
   },
   "file_extension": ".py",
   "mimetype": "text/x-python",
   "name": "python",
   "nbconvert_exporter": "python",
   "pygments_lexer": "ipython3",
   "version": "3.9.5"
  }
 },
 "nbformat": 4,
 "nbformat_minor": 5
}
